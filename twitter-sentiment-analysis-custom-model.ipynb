{
 "cells": [
  {
   "cell_type": "markdown",
   "metadata": {},
   "source": [
    "# Project Summary\n",
    "Train model to predict sentiment analysis. This model will the be used to predict Tweets that reference one of the top 5 banks in South Africa. \n",
    "\n",
    "Training: I used mutiple datasets to do this with Sentiment 140 being the creates contributor of tweets (1.6 million) \n",
    "However this was automatically labled (using emoticons) and doesnt have neutral tweets labled \n",
    "\n",
    "**Note** Proof of concept version was completed using a [pretrained model](https://www.kaggle.com/slythe/sentiment-analysis-with-twint-textblob-poc) (Textblob) \n",
    "\n",
    "## Datasets used\n",
    "1. [Sentiment140](https://www.kaggle.com/milobele/sentiment140-dataset-1600000-tweets)\n",
    "1. [Twitter and Reddit](https://www.kaggle.com/cosmos98/twitter-and-reddit-sentimental-analysis-dataset) \n",
    "1. [US airlines](https://www.kaggle.com/crowdflower/twitter-airline-sentiment) \n",
    "1.[Apple sentiment](https://www.kaggle.com/slythe/apple-twitter-sentiment-crowdflower) \n",
    "\n",
    "## Known issues with sentiment analysis:\n",
    "* Sarcasm - \"thanks FNB, now I cant open my account cause its frozen\" \n",
    "* Comparison of entities  - \"Capitec is the worst, you should use Standard Bank\" \n",
    "* Training data on non-South African tweets  - Jargon and lingo is different\n",
    "* Language usage - multiple languages are used in South Africa\n",
    "\n",
    "Reference notebooks:\n",
    "* [Full sentiment analysis](https://www.kaggle.com/paoloripamonti/twitter-sentiment-analysis/notebook) \n",
    "* [beginners notebook](https://www.kaggle.com/stoicstatic/twitter-sentiment-analysis-for-beginners)"
   ]
  },
  {
   "cell_type": "code",
   "execution_count": 1,
   "metadata": {
    "scrolled": true
   },
   "outputs": [
    {
     "data": {
      "text/html": [
       "<img src=\"https://storage.ning.com/topology/rest/1.0/file/get/3780584426?profile=original\" width=\"1000\" height=\"800\"/>"
      ],
      "text/plain": [
       "<IPython.core.display.Image object>"
      ]
     },
     "execution_count": 1,
     "metadata": {},
     "output_type": "execute_result"
    }
   ],
   "source": [
    "from IPython.display import Image\n",
    "Image(url = \"https://storage.ning.com/topology/rest/1.0/file/get/3780584426?profile=original\",width = 1000, height=800)"
   ]
  },
  {
   "cell_type": "code",
   "execution_count": 49,
   "metadata": {
    "_cell_guid": "b1076dfc-b9ad-4769-8c92-a6c4dae69d19",
    "_uuid": "8f2839f25d086af736a60e9eeb907d3b93b6e0e5"
   },
   "outputs": [],
   "source": [
    "import re\n",
    "import string \n",
    "import numpy as np \n",
    "import pandas as pd\n",
    "import seaborn as sns\n",
    "import matplotlib.pyplot as plt\n",
    "import pickle\n",
    "import scipy.sparse\n",
    "\n",
    "#preprocessing and scoring\n",
    "from sklearn.preprocessing import StandardScaler, MinMaxScaler\n",
    "from nltk.corpus import stopwords\n",
    "from sklearn.model_selection import train_test_split\n",
    "from sklearn.metrics import classification_report, f1_score, accuracy_score, recall_score, precision_score\n",
    "from nltk.stem import WordNetLemmatizer \n",
    "\n",
    "#models and algos\n",
    "from textblob import TextBlob\n",
    "from nltk.sentiment.vader import SentimentIntensityAnalyzer\n",
    "\n",
    "from sklearn.linear_model import LogisticRegression\n",
    "from sklearn.linear_model import RidgeClassifier\n",
    "from sklearn.svm import LinearSVC\n",
    "from sklearn.naive_bayes import MultinomialNB\n",
    "from sklearn.naive_bayes import BernoulliNB\n",
    "from sklearn.ensemble import RandomForestClassifier\n",
    "from sklearn.svm import SVC\n",
    "from xgboost import XGBClassifier\n",
    "\n",
    "##customer pipeline function\n",
    "from sklearn.base import BaseEstimator, TransformerMixin\n",
    "\n",
    "#Feature Extraction\n",
    "from sklearn.feature_extraction.text import TfidfVectorizer\n",
    "\n",
    "#Hyperparameter tuning\n",
    "from sklearn.model_selection import GridSearchCV\n",
    "\n",
    "from sklearn.model_selection import StratifiedKFold"
   ]
  },
  {
   "cell_type": "code",
   "execution_count": 3,
   "metadata": {},
   "outputs": [
    {
     "name": "stdout",
     "output_type": "stream",
     "text": [
      "['i', 'me', 'my', 'myself', 'we', 'our', 'ours', 'ourselves', 'you', \"you're\", \"you've\", \"you'll\", \"you'd\", 'your', 'yours', 'yourself', 'yourselves', 'he', 'him', 'his', 'himself', 'she', \"she's\", 'her', 'hers', 'herself', 'it', \"it's\", 'its', 'itself', 'they', 'them', 'their', 'theirs', 'themselves', 'what', 'which', 'who', 'whom', 'this', 'that', \"that'll\", 'these', 'those', 'am', 'is', 'are', 'was', 'were', 'be', 'been', 'being', 'have', 'has', 'had', 'having', 'do', 'does', 'did', 'doing', 'a', 'an', 'the', 'and', 'but', 'if', 'or', 'because', 'as', 'until', 'while', 'of', 'at', 'by', 'for', 'with', 'about', 'against', 'between', 'into', 'through', 'during', 'before', 'after', 'above', 'below', 'to', 'from', 'up', 'down', 'in', 'out', 'on', 'off', 'over', 'under', 'again', 'further', 'then', 'once', 'here', 'there', 'when', 'where', 'why', 'how', 'all', 'any', 'both', 'each', 'few', 'more', 'most', 'other', 'some', 'such', 'no', 'nor', 'not', 'only', 'own', 'same', 'so', 'than', 'too', 'very', 's', 't', 'can', 'will', 'just', 'don', \"don't\", 'should', \"should've\", 'now', 'd', 'll', 'm', 'o', 're', 've', 'y', 'ain', 'aren', \"aren't\", 'couldn', \"couldn't\", 'didn', \"didn't\", 'doesn', \"doesn't\", 'hadn', \"hadn't\", 'hasn', \"hasn't\", 'haven', \"haven't\", 'isn', \"isn't\", 'ma', 'mightn', \"mightn't\", 'mustn', \"mustn't\", 'needn', \"needn't\", 'shan', \"shan't\", 'shouldn', \"shouldn't\", 'wasn', \"wasn't\", 'weren', \"weren't\", 'won', \"won't\", 'wouldn', \"wouldn't\"]\n"
     ]
    }
   ],
   "source": [
    "print(stopwords.words(\"english\"))"
   ]
  },
  {
   "cell_type": "markdown",
   "metadata": {},
   "source": [
    "## Note on stopwords\n",
    "Removal of stop words seems to do more harm than good, many of the sentences lose their meaning. \"not\" and \"nor\" are particularly an issue as well as many of the prepositions \\ \n",
    "\n",
    "**ie.**\n",
    "> what is Apple doing, they won't do well  -->>  Apple well \\\n",
    "> I'm against Samsung  -->>  Samsung"
   ]
  },
  {
   "cell_type": "markdown",
   "metadata": {},
   "source": [
    "## Read and setup datasets"
   ]
  },
  {
   "cell_type": "code",
   "execution_count": 4,
   "metadata": {},
   "outputs": [],
   "source": [
    "train = pd.read_csv(\"./input/training.1600000.processed.noemoticon.csv\",encoding=\"Latin-1\" ,names=[\"polarity\",\"id\", \"date\",\"query\", \"user\", \"tweet\"])\n",
    "sentiment140  = pd.read_csv(\"./input/testdata.manual.2009.06.14.csv\",encoding=\"Latin-1\" ,names=[\"polarity\",\"id\", \"date\",\"query\", \"user\", \"tweet\"])\n",
    "apple = pd.read_csv(\"./input/Apple-Twitter-Sentiment-DFE.csv\", encoding=\"Latin-1\")\n",
    "twitter_reddit = pd.read_csv(\"./input/Twitter_Data.csv\")\n",
    "us_airlines =  pd.read_csv(\"./input/Tweets.csv\")"
   ]
  },
  {
   "cell_type": "code",
   "execution_count": 5,
   "metadata": {},
   "outputs": [],
   "source": [
    "#remove unnecessary columns\n",
    "train = train[[\"polarity\", \"tweet\"]]\n",
    "sentiment140 = sentiment140[[\"polarity\", \"tweet\"]]\n",
    "apple = apple[[\"sentiment\",\"text\"]]\n",
    "us_airlines = us_airlines[[\"airline_sentiment\", \"text\"]]\n",
    "twitter_reddit = twitter_reddit[[\"category\", \"clean_text\"]]"
   ]
  },
  {
   "cell_type": "code",
   "execution_count": 6,
   "metadata": {},
   "outputs": [],
   "source": [
    "#rename columns\n",
    "apple.columns = [\"polarity\",\"tweet\"]\n",
    "sentiment140.columns = [\"polarity\",\"tweet\"]\n",
    "us_airlines.columns = [\"polarity\",\"tweet\"]\n",
    "twitter_reddit.columns = [\"polarity\",\"tweet\"]"
   ]
  },
  {
   "cell_type": "code",
   "execution_count": 7,
   "metadata": {},
   "outputs": [],
   "source": [
    "#Replace values to have -1 negative, 0 neutral, 1 postive\n",
    "train[\"polarity\"]  = train[\"polarity\"].replace(4,1)\n",
    "train[\"polarity\"]  = train[\"polarity\"].replace(0,-1)\n",
    "\n",
    "sentiment140[\"polarity\"]  = sentiment140[\"polarity\"].replace(4,1)\n",
    "sentiment140[\"polarity\"]  = sentiment140[\"polarity\"].replace(0,-1)\n",
    "sentiment140[\"polarity\"]  = sentiment140[\"polarity\"].replace(2,0)\n",
    "\n",
    "apple[\"polarity\"] = apple[\"polarity\"].replace(\"1\",-1)\n",
    "apple[\"polarity\"] = apple[\"polarity\"].replace(\"3\",0)\n",
    "apple[\"polarity\"] = apple[\"polarity\"].replace(\"5\",1)\n",
    "\n",
    "us_airlines[\"polarity\"] =us_airlines[\"polarity\"].replace(\"negative\",-1)\n",
    "us_airlines[\"polarity\"] =us_airlines[\"polarity\"].replace(\"neutral\",0)\n",
    "us_airlines[\"polarity\"] =us_airlines[\"polarity\"].replace(\"positive\",1)"
   ]
  },
  {
   "cell_type": "code",
   "execution_count": 8,
   "metadata": {},
   "outputs": [],
   "source": [
    "apple = apple[apple[\"polarity\"]!= \"not_relevant\"]\n",
    "apple[\"polarity\"] = apple[\"polarity\"].astype(int) "
   ]
  },
  {
   "cell_type": "code",
   "execution_count": 9,
   "metadata": {},
   "outputs": [],
   "source": [
    "twitter_reddit.dropna(inplace= True)"
   ]
  },
  {
   "cell_type": "code",
   "execution_count": 10,
   "metadata": {},
   "outputs": [
    {
     "name": "stdout",
     "output_type": "stream",
     "text": [
      "train:  1600000\n",
      "sentiment140:  498\n",
      "apple:  3804\n",
      "twitter_reddit:  162969\n",
      "us_airlines:  14640\n"
     ]
    }
   ],
   "source": [
    "print(\"train: \", len(train))\n",
    "print(\"sentiment140: \", len(sentiment140))\n",
    "print(\"apple: \", len(apple))\n",
    "print(\"twitter_reddit: \", len(twitter_reddit))\n",
    "print(\"us_airlines: \", len(us_airlines))"
   ]
  },
  {
   "cell_type": "code",
   "execution_count": 11,
   "metadata": {},
   "outputs": [],
   "source": [
    "tweets_df = pd.concat([train,sentiment140,apple,us_airlines,twitter_reddit],axis=0)"
   ]
  },
  {
   "cell_type": "code",
   "execution_count": 12,
   "metadata": {},
   "outputs": [
    {
     "data": {
      "text/plain": [
       "<AxesSubplot:xlabel='polarity', ylabel='count'>"
      ]
     },
     "execution_count": 12,
     "metadata": {},
     "output_type": "execute_result"
    },
    {
     "data": {
      "image/png": "[encoded data removed]",
      "text/plain": [
       "<Figure size 432x288 with 1 Axes>"
      ]
     },
     "metadata": {
      "needs_background": "light"
     },
     "output_type": "display_data"
    }
   ],
   "source": [
    "sns.countplot(data = tweets_df , x = \"polarity\")"
   ]
  },
  {
   "cell_type": "markdown",
   "metadata": {},
   "source": [
    "Due to the sentiment140 training data not including neutral tweets we have a imbalanced dataset "
   ]
  },
  {
   "cell_type": "markdown",
   "metadata": {},
   "source": [
    "# Additional Features\n",
    "There are a number of additional features that can be added however this can be its own notebook. We will look only at length for now"
   ]
  },
  {
   "cell_type": "code",
   "execution_count": 13,
   "metadata": {},
   "outputs": [],
   "source": [
    "tweets_df[\"tweet\"] = tweets_df[\"tweet\"].astype(str)\n",
    "tweets_df.reset_index(drop = True,inplace=True)"
   ]
  },
  {
   "cell_type": "code",
   "execution_count": 14,
   "metadata": {},
   "outputs": [],
   "source": [
    "# Length  \n",
    "tweets_df[\"length\"] = tweets_df[\"tweet\"].apply(len)"
   ]
  },
  {
   "cell_type": "code",
   "execution_count": 15,
   "metadata": {},
   "outputs": [
    {
     "data": {
      "text/html": [
       "<div>\n",
       "<style scoped>\n",
       "    .dataframe tbody tr th:only-of-type {\n",
       "        vertical-align: middle;\n",
       "    }\n",
       "\n",
       "    .dataframe tbody tr th {\n",
       "        vertical-align: top;\n",
       "    }\n",
       "\n",
       "    .dataframe thead th {\n",
       "        text-align: right;\n",
       "    }\n",
       "</style>\n",
       "<table border=\"1\" class=\"dataframe\">\n",
       "  <thead>\n",
       "    <tr style=\"text-align: right;\">\n",
       "      <th></th>\n",
       "      <th>count</th>\n",
       "      <th>mean</th>\n",
       "      <th>std</th>\n",
       "      <th>min</th>\n",
       "      <th>25%</th>\n",
       "      <th>50%</th>\n",
       "      <th>75%</th>\n",
       "      <th>max</th>\n",
       "    </tr>\n",
       "    <tr>\n",
       "      <th>polarity</th>\n",
       "      <th></th>\n",
       "      <th></th>\n",
       "      <th></th>\n",
       "      <th></th>\n",
       "      <th></th>\n",
       "      <th></th>\n",
       "      <th></th>\n",
       "      <th></th>\n",
       "    </tr>\n",
       "  </thead>\n",
       "  <tbody>\n",
       "    <tr>\n",
       "      <th>-1.0</th>\n",
       "      <td>846083.0</td>\n",
       "      <td>77.853270</td>\n",
       "      <td>41.165913</td>\n",
       "      <td>5.0</td>\n",
       "      <td>45.0</td>\n",
       "      <td>72.0</td>\n",
       "      <td>109.0</td>\n",
       "      <td>359.0</td>\n",
       "    </tr>\n",
       "    <tr>\n",
       "      <th>0.0</th>\n",
       "      <td>60611.0</td>\n",
       "      <td>88.818036</td>\n",
       "      <td>55.568413</td>\n",
       "      <td>1.0</td>\n",
       "      <td>47.0</td>\n",
       "      <td>75.0</td>\n",
       "      <td>120.0</td>\n",
       "      <td>267.0</td>\n",
       "    </tr>\n",
       "    <tr>\n",
       "      <th>1.0</th>\n",
       "      <td>875217.0</td>\n",
       "      <td>79.383835</td>\n",
       "      <td>43.483240</td>\n",
       "      <td>4.0</td>\n",
       "      <td>45.0</td>\n",
       "      <td>72.0</td>\n",
       "      <td>109.0</td>\n",
       "      <td>374.0</td>\n",
       "    </tr>\n",
       "  </tbody>\n",
       "</table>\n",
       "</div>"
      ],
      "text/plain": [
       "             count       mean        std  min   25%   50%    75%    max\n",
       "polarity                                                               \n",
       "-1.0      846083.0  77.853270  41.165913  5.0  45.0  72.0  109.0  359.0\n",
       " 0.0       60611.0  88.818036  55.568413  1.0  47.0  75.0  120.0  267.0\n",
       " 1.0      875217.0  79.383835  43.483240  4.0  45.0  72.0  109.0  374.0"
      ]
     },
     "execution_count": 15,
     "metadata": {},
     "output_type": "execute_result"
    }
   ],
   "source": [
    "tweets_df.groupby(\"polarity\")[\"length\"].describe()"
   ]
  },
  {
   "cell_type": "code",
   "execution_count": 16,
   "metadata": {},
   "outputs": [
    {
     "data": {
      "text/plain": [
       "<seaborn.axisgrid.FacetGrid at 0x2496a80bbb0>"
      ]
     },
     "execution_count": 16,
     "metadata": {},
     "output_type": "execute_result"
    },
    {
     "data": {
      "text/plain": [
       "<Figure size 1080x360 with 0 Axes>"
      ]
     },
     "metadata": {},
     "output_type": "display_data"
    },
    {
     "data": {
      "image/png": "[encoded data removed]",
      "text/plain": [
       "<Figure size 1495.62x360 with 1 Axes>"
      ]
     },
     "metadata": {
      "needs_background": "light"
     },
     "output_type": "display_data"
    }
   ],
   "source": [
    "plt.figure(figsize=(15,5))\n",
    "\n",
    "sns.displot(data = tweets_df, x= \"length\", hue= \"polarity\" ,palette={-1:\"r\",0:\"b\",1:\"g\"}, bins = 30,aspect= 4, alpha = 0.8)"
   ]
  },
  {
   "cell_type": "markdown",
   "metadata": {},
   "source": [
    "# Cleaning "
   ]
  },
  {
   "cell_type": "code",
   "execution_count": 17,
   "metadata": {},
   "outputs": [],
   "source": [
    "def clean_text(text):  \n",
    "    pat1 = r'@[^ ]+'                   #@signs and value\n",
    "    pat2 = r'https?://[A-Za-z0-9./]+'  #links\n",
    "    pat3 = r'\\'s'                      #floating s's\n",
    "    pat4 = r'\\#\\w+'                     # hashtags and value\n",
    "    pat5 = r'&amp '\n",
    "    pat6 = r'[^A-Za-z\\s]'         #remove non-alphabet\n",
    "    combined_pat = r'|'.join((pat1, pat2,pat3,pat4,pat5, pat6))\n",
    "    text = re.sub(combined_pat,\"\",text).lower()\n",
    "    return text.strip()"
   ]
  },
  {
   "cell_type": "code",
   "execution_count": 18,
   "metadata": {},
   "outputs": [],
   "source": [
    "#clean\n",
    "tweets_df[\"cleaned_tweet\"] = tweets_df[\"tweet\"].apply(clean_text)"
   ]
  },
  {
   "cell_type": "code",
   "execution_count": 19,
   "metadata": {},
   "outputs": [],
   "source": [
    "#drop empty \n",
    "tweets_df = tweets_df [ ~(tweets_df[\"cleaned_tweet\"] ==\"\")]"
   ]
  },
  {
   "cell_type": "markdown",
   "metadata": {},
   "source": [
    "### Lemmetization "
   ]
  },
  {
   "cell_type": "code",
   "execution_count": 20,
   "metadata": {},
   "outputs": [],
   "source": [
    "lem = WordNetLemmatizer()\n",
    "\n",
    "def tokenize_lem(sentence):\n",
    "    outlist= []\n",
    "    token = sentence.split()\n",
    "    for tok in token:\n",
    "        outlist.append(lem.lemmatize(tok))\n",
    "    return \" \".join(outlist)"
   ]
  },
  {
   "cell_type": "code",
   "execution_count": 21,
   "metadata": {},
   "outputs": [],
   "source": [
    "tweets_df[\"cleaned_tweet\"] = tweets_df[\"cleaned_tweet\"].apply(tokenize_lem)"
   ]
  },
  {
   "cell_type": "code",
   "execution_count": 22,
   "metadata": {},
   "outputs": [
    {
     "data": {
      "text/html": [
       "<div>\n",
       "<style scoped>\n",
       "    .dataframe tbody tr th:only-of-type {\n",
       "        vertical-align: middle;\n",
       "    }\n",
       "\n",
       "    .dataframe tbody tr th {\n",
       "        vertical-align: top;\n",
       "    }\n",
       "\n",
       "    .dataframe thead th {\n",
       "        text-align: right;\n",
       "    }\n",
       "</style>\n",
       "<table border=\"1\" class=\"dataframe\">\n",
       "  <thead>\n",
       "    <tr style=\"text-align: right;\">\n",
       "      <th></th>\n",
       "      <th>polarity</th>\n",
       "      <th>tweet</th>\n",
       "      <th>length</th>\n",
       "      <th>cleaned_tweet</th>\n",
       "    </tr>\n",
       "  </thead>\n",
       "  <tbody>\n",
       "    <tr>\n",
       "      <th>0</th>\n",
       "      <td>-1.0</td>\n",
       "      <td>@switchfoot http://twitpic.com/2y1zl - Awww, t...</td>\n",
       "      <td>115</td>\n",
       "      <td>awww that a bummer you shoulda got david carr ...</td>\n",
       "    </tr>\n",
       "    <tr>\n",
       "      <th>1</th>\n",
       "      <td>-1.0</td>\n",
       "      <td>is upset that he can't update his Facebook by ...</td>\n",
       "      <td>111</td>\n",
       "      <td>is upset that he cant update his facebook by t...</td>\n",
       "    </tr>\n",
       "    <tr>\n",
       "      <th>2</th>\n",
       "      <td>-1.0</td>\n",
       "      <td>@Kenichan I dived many times for the ball. Man...</td>\n",
       "      <td>89</td>\n",
       "      <td>i dived many time for the ball managed to save...</td>\n",
       "    </tr>\n",
       "    <tr>\n",
       "      <th>3</th>\n",
       "      <td>-1.0</td>\n",
       "      <td>my whole body feels itchy and like its on fire</td>\n",
       "      <td>47</td>\n",
       "      <td>my whole body feel itchy and like it on fire</td>\n",
       "    </tr>\n",
       "    <tr>\n",
       "      <th>4</th>\n",
       "      <td>-1.0</td>\n",
       "      <td>@nationwideclass no, it's not behaving at all....</td>\n",
       "      <td>111</td>\n",
       "      <td>no it not behaving at all im mad why am i here...</td>\n",
       "    </tr>\n",
       "  </tbody>\n",
       "</table>\n",
       "</div>"
      ],
      "text/plain": [
       "   polarity                                              tweet  length  \\\n",
       "0      -1.0  @switchfoot http://twitpic.com/2y1zl - Awww, t...     115   \n",
       "1      -1.0  is upset that he can't update his Facebook by ...     111   \n",
       "2      -1.0  @Kenichan I dived many times for the ball. Man...      89   \n",
       "3      -1.0    my whole body feels itchy and like its on fire       47   \n",
       "4      -1.0  @nationwideclass no, it's not behaving at all....     111   \n",
       "\n",
       "                                       cleaned_tweet  \n",
       "0  awww that a bummer you shoulda got david carr ...  \n",
       "1  is upset that he cant update his facebook by t...  \n",
       "2  i dived many time for the ball managed to save...  \n",
       "3       my whole body feel itchy and like it on fire  \n",
       "4  no it not behaving at all im mad why am i here...  "
      ]
     },
     "execution_count": 22,
     "metadata": {},
     "output_type": "execute_result"
    }
   ],
   "source": [
    "tweets_df.head()"
   ]
  },
  {
   "cell_type": "code",
   "execution_count": 23,
   "metadata": {},
   "outputs": [
    {
     "name": "stdout",
     "output_type": "stream",
     "text": [
      "<class 'pandas.core.frame.DataFrame'>\n",
      "Int64Index: 1777958 entries, 0 to 1781910\n",
      "Data columns (total 4 columns):\n",
      " #   Column         Dtype  \n",
      "---  ------         -----  \n",
      " 0   polarity       float64\n",
      " 1   tweet          object \n",
      " 2   length         int64  \n",
      " 3   cleaned_tweet  object \n",
      "dtypes: float64(1), int64(1), object(2)\n",
      "memory usage: 67.8+ MB\n"
     ]
    }
   ],
   "source": [
    "tweets_df.info()"
   ]
  },
  {
   "cell_type": "markdown",
   "metadata": {},
   "source": [
    "#### Split the data"
   ]
  },
  {
   "cell_type": "code",
   "execution_count": 24,
   "metadata": {},
   "outputs": [],
   "source": [
    "X_train, X_test, y_train, y_test = train_test_split(tweets_df[[\"cleaned_tweet\",\"length\"]], tweets_df[\"polarity\"], test_size=0.1, random_state=42)"
   ]
  },
  {
   "cell_type": "markdown",
   "metadata": {},
   "source": [
    "### TF-IDF \n",
    "vectorise the tweets "
   ]
  },
  {
   "cell_type": "code",
   "execution_count": 25,
   "metadata": {},
   "outputs": [],
   "source": [
    "tfidf = TfidfVectorizer()"
   ]
  },
  {
   "cell_type": "code",
   "execution_count": 26,
   "metadata": {},
   "outputs": [
    {
     "data": {
      "text/plain": [
       "TfidfVectorizer()"
      ]
     },
     "execution_count": 26,
     "metadata": {},
     "output_type": "execute_result"
    }
   ],
   "source": [
    "tfidf.fit(X_train[\"cleaned_tweet\"])"
   ]
  },
  {
   "cell_type": "code",
   "execution_count": 27,
   "metadata": {},
   "outputs": [],
   "source": [
    "X_train_v = tfidf.transform(X_train[\"cleaned_tweet\"])\n",
    "X_test_v = tfidf.transform(X_test[\"cleaned_tweet\"])"
   ]
  },
  {
   "cell_type": "code",
   "execution_count": 28,
   "metadata": {},
   "outputs": [
    {
     "name": "stdout",
     "output_type": "stream",
     "text": [
      "(1600162, 432733)\n",
      "(177796, 432733)\n"
     ]
    }
   ],
   "source": [
    "print(X_train_v.shape)\n",
    "print(X_test_v.shape)"
   ]
  },
  {
   "cell_type": "markdown",
   "metadata": {},
   "source": [
    "#### Add TFIDF to tweets vector and Scaling"
   ]
  },
  {
   "cell_type": "code",
   "execution_count": 29,
   "metadata": {},
   "outputs": [],
   "source": [
    "scaler = MinMaxScaler()\n",
    "scaler2 = MinMaxScaler()"
   ]
  },
  {
   "cell_type": "code",
   "execution_count": 30,
   "metadata": {},
   "outputs": [
    {
     "data": {
      "text/plain": [
       "MinMaxScaler()"
      ]
     },
     "execution_count": 30,
     "metadata": {},
     "output_type": "execute_result"
    }
   ],
   "source": [
    "scaler.fit([X_train[\"length\"]])\n",
    "scaler2.fit([X_test[\"length\"]])"
   ]
  },
  {
   "cell_type": "code",
   "execution_count": 31,
   "metadata": {},
   "outputs": [],
   "source": [
    "X_train_len = scaler.transform([X_train[\"length\"]])\n",
    "X_train_len = X_train_len.reshape( X_train_v.shape[0], 1)\n",
    "\n",
    "X_train = scipy.sparse.hstack([X_train_v,X_train_len], format = \"csr\")"
   ]
  },
  {
   "cell_type": "code",
   "execution_count": 32,
   "metadata": {},
   "outputs": [],
   "source": [
    "X_test_len = scaler2.transform([X_test[\"length\"]])\n",
    "X_test_len = X_test_len.reshape(X_test_v.shape[0], 1)\n",
    "\n",
    "X_test = scipy.sparse.hstack([X_test_v,X_test_len], format = \"csr\")"
   ]
  },
  {
   "cell_type": "code",
   "execution_count": 33,
   "metadata": {},
   "outputs": [
    {
     "data": {
      "text/plain": [
       "'MinMaxScaler = scaler.fit_transform([tweets_df[\"length\"]])\\nMinMaxScaler = MinMaxScaler.reshape( tweets_v.shape[0], 1)\\ntweets_v_scaled = scipy.sparse.hstack([tweets_v,MinMaxScaler], format = \"csr\")'"
      ]
     },
     "execution_count": 33,
     "metadata": {},
     "output_type": "execute_result"
    }
   ],
   "source": [
    "\"\"\"MinMaxScaler = scaler.fit_transform([tweets_df[\"length\"]])\n",
    "MinMaxScaler = MinMaxScaler.reshape( tweets_v.shape[0], 1)\n",
    "tweets_v_scaled = scipy.sparse.hstack([tweets_v,MinMaxScaler], format = \"csr\")\"\"\""
   ]
  },
  {
   "cell_type": "markdown",
   "metadata": {},
   "source": [
    "### Algorithms used:\n",
    "* Random Forest\n",
    "* LinearSVC\n",
    "* Naive Bayes (Bernoulini and Multinomial)\n",
    "* XGBoost\n",
    "* Logistic Regression\n",
    "* Ridge \n",
    "\n",
    "### Out-the-box models for comparison:\n",
    "1. Textblob \n",
    "1. Vader"
   ]
  },
  {
   "cell_type": "markdown",
   "metadata": {},
   "source": [
    "## GridSearchCV\n",
    "Due to the time some of these models took to run, the tuning for the below models were was done outside Kaggle and as a result some parameter iterations were reduced:\n",
    "\n",
    "#### params per model\n",
    "* LogisticRegression(C=5, max_iter=10000, solver='sag')\n",
    "* LinearSVC(C=1)\n",
    "* RidgeClassifier(alpha=3)\n",
    "* BernoulliNB(alpha=1)\n",
    "* MultinomialNB(alpha=0.01)\n",
    "* XGBClassifier(base_score=0.5, booster='gbtree', colsample_bylevel=1,\\n colsample_bynode=1, colsample_bytree=1, eta=0.5, gamma=0,\\n gpu_id=-1, importance_type='gain', interaction_constraints='',\\n learning_rate=0.5, max_delta_step=0, max_depth=9,\\n min_child_weight=1, missing=nan, monotone_constraints='()',\\n n_estimators=500, n_jobs=4, num_parallel_tree=1,\\n objective='multi:softprob', random_state=0, reg_alpha=0,\\n reg_lambda=1, scale_pos_weight=None, subsample=1,\\n tree_method='exact', validate_parameters=1, verbosity=None)"
   ]
  },
  {
   "cell_type": "code",
   "execution_count": 34,
   "metadata": {},
   "outputs": [
    {
     "data": {
      "text/plain": [
       "'gen_params = {\"alpha\":[0.001,0.01,1,3,4,5]}\\n\\nxgb_params={\\'eta\\': [0.5, 1, 2, 3], \\n            \\'max_depth\\': [None, 3, 5, 7, 9],\\n                         \\n            \\'n_estimators\\': [50, 100, 150, 200, 300, 500]\\n           }\\nlnSVC_params = {\\n    \"C\": [0.01,1,3,4,5,10]\\n}\\nlogr_params = {\\n    \"penalty\": [\"l2\" ,\"l1\", \"none\"],\\n    \"C\": [1,3,4,5],\\n    \"max_iter\": [5000,10000]\\n}\\n\\nforest_params = {\"n_estimators\": [50, 100],\\n                 \"max_depth\" : [1,5, 10]\\n}'"
      ]
     },
     "execution_count": 34,
     "metadata": {},
     "output_type": "execute_result"
    }
   ],
   "source": [
    "#Parameters tested outside Kaggle \n",
    "'''gen_params = {\"alpha\":[0.001,0.01,1,3,4,5]}\n",
    "\n",
    "xgb_params={'eta': [0.5, 1, 2, 3], \n",
    "            'max_depth': [None, 3, 5, 7, 9],\n",
    "                         \n",
    "            'n_estimators': [50, 100, 150, 200, 300, 500]\n",
    "           }\n",
    "lnSVC_params = {\n",
    "    \"C\": [0.01,1,3,4,5,10]\n",
    "}\n",
    "logr_params = {\n",
    "    \"penalty\": [\"l2\" ,\"l1\", \"none\"],\n",
    "    \"C\": [1,3,4,5],\n",
    "    \"max_iter\": [5000,10000]\n",
    "}\n",
    "\n",
    "forest_params = {\"n_estimators\": [50, 100],\n",
    "                 \"max_depth\" : [1,5, 10]\n",
    "}'''"
   ]
  },
  {
   "cell_type": "code",
   "execution_count": 35,
   "metadata": {},
   "outputs": [],
   "source": [
    "kfold =StratifiedKFold(n_splits=5,shuffle=True,random_state=42)"
   ]
  },
  {
   "cell_type": "code",
   "execution_count": 36,
   "metadata": {},
   "outputs": [],
   "source": [
    "model_score = pd.DataFrame(columns=[\"model_f1_train\",\"params_used\", \"f1\",\"precision\",\"recall\"])\n",
    "\n",
    "\n",
    "def model_prediction(model, params):\n",
    "    \n",
    "    model = GridSearchCV(model, param_grid= params, cv= kfold)\n",
    "    \n",
    "    model.fit(X_train, y_train)\n",
    "    y_pred = model.predict(X_test)\n",
    "    \n",
    "    print (\"Model and params: \", model.best_estimator_, model.best_params_) \n",
    "    print(\"\\n\")\n",
    "    print(\"Train score: \", model.best_score_)\n",
    "    print(\"test score: \",accuracy_score(y_test,y_pred))\n",
    "    print(\"\\n\")\n",
    "    print(\"Test Report:\")\n",
    "    print(classification_report(y_test,y_pred))\n",
    "    return y_pred, model"
   ]
  },
  {
   "cell_type": "code",
   "execution_count": 37,
   "metadata": {},
   "outputs": [],
   "source": [
    "def model_scoring(y_pred, model):\n",
    "    global y_test\n",
    "    global model_score\n",
    "    \n",
    "    df = pd.DataFrame(data = [[model.best_score_,\n",
    "                           model.best_params_,\n",
    "                           f1_score(y_test,y_pred,average=\"macro\"),\n",
    "                           precision_score(y_test,y_pred,average=\"macro\"),\n",
    "                           recall_score(y_test,y_pred,average=\"macro\")\n",
    "                          ]] , \n",
    "                  columns =model_score.columns, \n",
    "                  index=[str(model.best_estimator_)])\n",
    "    model_score = model_score.append ( df )  "
   ]
  },
  {
   "cell_type": "code",
   "execution_count": 38,
   "metadata": {},
   "outputs": [],
   "source": [
    "#Set Parameters\n",
    "gen_params = {\"alpha\":[1,3]}\n",
    "xgb_params = {\n",
    "        'n_estimators': [200],\n",
    "        'max_depth': [9],\n",
    "        'eta': [0.5],\n",
    "}\n",
    "lnSVC_params = {\n",
    "    \"C\": [1]\n",
    "}\n",
    "logr_params = {\n",
    "    \"penalty\": [\"l2\"],\n",
    "    \"C\": [5],\n",
    "    \"max_iter\": [10000]\n",
    "}\n",
    "forest_params = {\"n_estimators\": [100],\n",
    "                 \"max_depth\" : [8]\n",
    "}"
   ]
  },
  {
   "cell_type": "markdown",
   "metadata": {},
   "source": [
    "### Run GridSearchCV"
   ]
  },
  {
   "cell_type": "code",
   "execution_count": 39,
   "metadata": {},
   "outputs": [],
   "source": [
    "#Instantiate\n",
    "vader = SentimentIntensityAnalyzer()\n",
    "#textblob does not required instantiation \n",
    "\n",
    "logr_i = LogisticRegression(solver=\"sag\")\n",
    "ridge_i = RidgeClassifier()                 # L2 regularization\n",
    "lnSVC_i = LinearSVC()\n",
    "naivemulti_i = MultinomialNB()\n",
    "naivebern_i = BernoulliNB()\n",
    "xgb_i = XGBClassifier(#tree_method='gpu_hist'\n",
    "                     )\n",
    "rf_i = RandomForestClassifier()"
   ]
  },
  {
   "cell_type": "code",
   "execution_count": 40,
   "metadata": {},
   "outputs": [
    {
     "name": "stdout",
     "output_type": "stream",
     "text": [
      "Model and params:  LogisticRegression(C=5, max_iter=10000, solver='sag') {'C': 5, 'max_iter': 10000, 'penalty': 'l2'}\n",
      "\n",
      "\n",
      "Train score:  0.7864228746576617\n",
      "test score:  0.7871324439244978\n",
      "\n",
      "\n",
      "Test Report:\n",
      "              precision    recall  f1-score   support\n",
      "\n",
      "        -1.0       0.79      0.77      0.78     84112\n",
      "         0.0       0.84      0.78      0.81      6227\n",
      "         1.0       0.78      0.80      0.79     87457\n",
      "\n",
      "    accuracy                           0.79    177796\n",
      "   macro avg       0.80      0.78      0.79    177796\n",
      "weighted avg       0.79      0.79      0.79    177796\n",
      "\n",
      "Model and params:  RidgeClassifier(alpha=3) {'alpha': 3}\n",
      "\n",
      "\n",
      "Train score:  0.7749534114364387\n",
      "test score:  0.7763560485050283\n",
      "\n",
      "\n",
      "Test Report:\n",
      "              precision    recall  f1-score   support\n",
      "\n",
      "        -1.0       0.79      0.77      0.78     84112\n",
      "         0.0       0.68      0.45      0.54      6227\n",
      "         1.0       0.77      0.80      0.79     87457\n",
      "\n",
      "    accuracy                           0.78    177796\n",
      "   macro avg       0.75      0.67      0.70    177796\n",
      "weighted avg       0.78      0.78      0.77    177796\n",
      "\n",
      "Model and params:  LinearSVC(C=1) {'C': 1}\n",
      "\n",
      "\n",
      "Train score:  0.7832919419321438\n",
      "test score:  0.7846127021980247\n",
      "\n",
      "\n",
      "Test Report:\n",
      "              precision    recall  f1-score   support\n",
      "\n",
      "        -1.0       0.79      0.78      0.78     84112\n",
      "         0.0       0.83      0.72      0.77      6227\n",
      "         1.0       0.78      0.80      0.79     87457\n",
      "\n",
      "    accuracy                           0.78    177796\n",
      "   macro avg       0.80      0.77      0.78    177796\n",
      "weighted avg       0.78      0.78      0.78    177796\n",
      "\n",
      "Model and params:  MultinomialNB(alpha=3) {'alpha': 3}\n",
      "\n",
      "\n",
      "Train score:  0.7451982982096469\n",
      "test score:  0.744904272312088\n",
      "\n",
      "\n",
      "Test Report:\n",
      "              precision    recall  f1-score   support\n",
      "\n",
      "        -1.0       0.76      0.78      0.77     84112\n",
      "         0.0       1.00      0.00      0.00      6227\n",
      "         1.0       0.73      0.77      0.75     87457\n",
      "\n",
      "    accuracy                           0.74    177796\n",
      "   macro avg       0.83      0.52      0.51    177796\n",
      "weighted avg       0.75      0.74      0.73    177796\n",
      "\n",
      "Model and params:  BernoulliNB(alpha=3) {'alpha': 3}\n",
      "\n",
      "\n",
      "Train score:  0.7466856478635194\n",
      "test score:  0.7465747260905757\n",
      "\n",
      "\n",
      "Test Report:\n",
      "              precision    recall  f1-score   support\n",
      "\n",
      "        -1.0       0.76      0.78      0.77     84112\n",
      "         0.0       0.32      0.11      0.16      6227\n",
      "         1.0       0.74      0.76      0.75     87457\n",
      "\n",
      "    accuracy                           0.75    177796\n",
      "   macro avg       0.61      0.55      0.56    177796\n",
      "weighted avg       0.74      0.75      0.74    177796\n",
      "\n"
     ]
    },
    {
     "name": "stderr",
     "output_type": "stream",
     "text": [
      "C:\\Users\\andre\\anaconda3\\lib\\site-packages\\xgboost\\sklearn.py:888: UserWarning: The use of label encoder in XGBClassifier is deprecated and will be removed in a future release. To remove this warning, do the following: 1) Pass option use_label_encoder=False when constructing XGBClassifier object; and 2) Encode your labels (y) as integers starting with 0, i.e. 0, 1, 2, ..., [num_class - 1].\n",
      "  warnings.warn(label_encoder_deprecation_msg, UserWarning)\n"
     ]
    },
    {
     "name": "stdout",
     "output_type": "stream",
     "text": [
      "[21:22:42] WARNING: ..\\src\\learner.cc:1061: Starting in XGBoost 1.3.0, the default evaluation metric used with the objective 'multi:softprob' was changed from 'merror' to 'mlogloss'. Explicitly set eval_metric if you'd like to restore the old behavior.\n",
      "[22:22:54] WARNING: ..\\src\\learner.cc:1061: Starting in XGBoost 1.3.0, the default evaluation metric used with the objective 'multi:softprob' was changed from 'merror' to 'mlogloss'. Explicitly set eval_metric if you'd like to restore the old behavior.\n",
      "[23:21:55] WARNING: ..\\src\\learner.cc:1061: Starting in XGBoost 1.3.0, the default evaluation metric used with the objective 'multi:softprob' was changed from 'merror' to 'mlogloss'. Explicitly set eval_metric if you'd like to restore the old behavior.\n",
      "[00:20:31] WARNING: ..\\src\\learner.cc:1061: Starting in XGBoost 1.3.0, the default evaluation metric used with the objective 'multi:softprob' was changed from 'merror' to 'mlogloss'. Explicitly set eval_metric if you'd like to restore the old behavior.\n",
      "[01:19:00] WARNING: ..\\src\\learner.cc:1061: Starting in XGBoost 1.3.0, the default evaluation metric used with the objective 'multi:softprob' was changed from 'merror' to 'mlogloss'. Explicitly set eval_metric if you'd like to restore the old behavior.\n",
      "[02:18:09] WARNING: ..\\src\\learner.cc:1061: Starting in XGBoost 1.3.0, the default evaluation metric used with the objective 'multi:softprob' was changed from 'merror' to 'mlogloss'. Explicitly set eval_metric if you'd like to restore the old behavior.\n",
      "Model and params:  XGBClassifier(base_score=0.5, booster='gbtree', colsample_bylevel=1,\n",
      "              colsample_bynode=1, colsample_bytree=1, eta=0.5, gamma=0,\n",
      "              gpu_id=-1, importance_type='gain', interaction_constraints='',\n",
      "              learning_rate=0.5, max_delta_step=0, max_depth=9,\n",
      "              min_child_weight=1, missing=nan, monotone_constraints='()',\n",
      "              n_estimators=200, n_jobs=12, num_parallel_tree=1,\n",
      "              objective='multi:softprob', random_state=0, reg_alpha=0,\n",
      "              reg_lambda=1, scale_pos_weight=None, subsample=1,\n",
      "              tree_method='exact', validate_parameters=1, verbosity=None) {'eta': 0.5, 'max_depth': 9, 'n_estimators': 200}\n",
      "\n",
      "\n",
      "Train score:  0.7928515987040592\n",
      "test score:  0.7937411415329929\n",
      "\n",
      "\n",
      "Test Report:\n",
      "              precision    recall  f1-score   support\n",
      "\n",
      "        -1.0       0.81      0.76      0.78     84112\n",
      "         0.0       0.84      0.81      0.83      6227\n",
      "         1.0       0.78      0.82      0.80     87457\n",
      "\n",
      "    accuracy                           0.79    177796\n",
      "   macro avg       0.81      0.80      0.80    177796\n",
      "weighted avg       0.79      0.79      0.79    177796\n",
      "\n",
      "Model and params:  RandomForestClassifier(max_depth=8) {'max_depth': 8, 'n_estimators': 100}\n",
      "\n",
      "\n",
      "Train score:  0.5643047464137576\n",
      "test score:  0.5580496749083219\n",
      "\n",
      "\n",
      "Test Report:\n"
     ]
    },
    {
     "name": "stderr",
     "output_type": "stream",
     "text": [
      "C:\\Users\\andre\\anaconda3\\lib\\site-packages\\sklearn\\metrics\\_classification.py:1221: UndefinedMetricWarning: Precision and F-score are ill-defined and being set to 0.0 in labels with no predicted samples. Use `zero_division` parameter to control this behavior.\n",
      "  _warn_prf(average, modifier, msg_start, len(result))\n"
     ]
    },
    {
     "name": "stdout",
     "output_type": "stream",
     "text": [
      "              precision    recall  f1-score   support\n",
      "\n",
      "        -1.0       0.87      0.16      0.28     84112\n",
      "         0.0       0.00      0.00      0.00      6227\n",
      "         1.0       0.53      0.98      0.68     87457\n",
      "\n",
      "    accuracy                           0.56    177796\n",
      "   macro avg       0.47      0.38      0.32    177796\n",
      "weighted avg       0.67      0.56      0.47    177796\n",
      "\n"
     ]
    }
   ],
   "source": [
    "log_pred , logr_m = model_prediction(logr_i,logr_params)\n",
    "ridge_pred, ridge_m = model_prediction(ridge_i,{\"alpha\":[3]})\n",
    "linSVC_pred, lnSVC_m = model_prediction(lnSVC_i, lnSVC_params)\n",
    "naivemulti_pred, naivemulti_m = model_prediction(naivemulti_i, gen_params)\n",
    "naivebern_pred, naivebern_m = model_prediction(naivebern_i, gen_params)\n",
    "xgb_pred, xgb_m = model_prediction(xgb_i, xgb_params)\n",
    "rf_pred, rf_m = model_prediction(rf_i,forest_params)"
   ]
  },
  {
   "cell_type": "code",
   "execution_count": 57,
   "metadata": {},
   "outputs": [
    {
     "ename": "ValueError",
     "evalue": "Found input variables with inconsistent numbers of samples: [533388, 177796]",
     "output_type": "error",
     "traceback": [
      "\u001b[1;31m---------------------------------------------------------------------------\u001b[0m",
      "\u001b[1;31mValueError\u001b[0m                                Traceback (most recent call last)",
      "\u001b[1;32m<ipython-input-57-c44655c9329d>\u001b[0m in \u001b[0;36m<module>\u001b[1;34m\u001b[0m\n\u001b[1;32m----> 1\u001b[1;33m \u001b[0mmodel_scoring\u001b[0m\u001b[1;33m(\u001b[0m\u001b[0mxgb_pred\u001b[0m\u001b[1;33m,\u001b[0m \u001b[0mxgb_m\u001b[0m\u001b[1;33m)\u001b[0m\u001b[1;33m\u001b[0m\u001b[1;33m\u001b[0m\u001b[0m\n\u001b[0m\u001b[0;32m      2\u001b[0m \u001b[0mmodel_scoring\u001b[0m\u001b[1;33m(\u001b[0m\u001b[0mrf_pred\u001b[0m\u001b[1;33m,\u001b[0m \u001b[0mrf_m\u001b[0m\u001b[1;33m)\u001b[0m\u001b[1;33m\u001b[0m\u001b[1;33m\u001b[0m\u001b[0m\n",
      "\u001b[1;32m<ipython-input-37-2a14f0270896>\u001b[0m in \u001b[0;36mmodel_scoring\u001b[1;34m(y_pred, model)\u001b[0m\n\u001b[0;32m      5\u001b[0m     df = pd.DataFrame(data = [[model.best_score_,\n\u001b[0;32m      6\u001b[0m                            \u001b[0mmodel\u001b[0m\u001b[1;33m.\u001b[0m\u001b[0mbest_params_\u001b[0m\u001b[1;33m,\u001b[0m\u001b[1;33m\u001b[0m\u001b[1;33m\u001b[0m\u001b[0m\n\u001b[1;32m----> 7\u001b[1;33m                            \u001b[0mf1_score\u001b[0m\u001b[1;33m(\u001b[0m\u001b[0my_test\u001b[0m\u001b[1;33m,\u001b[0m\u001b[0my_pred\u001b[0m\u001b[1;33m,\u001b[0m\u001b[0maverage\u001b[0m\u001b[1;33m=\u001b[0m\u001b[1;34m\"macro\"\u001b[0m\u001b[1;33m)\u001b[0m\u001b[1;33m,\u001b[0m\u001b[1;33m\u001b[0m\u001b[1;33m\u001b[0m\u001b[0m\n\u001b[0m\u001b[0;32m      8\u001b[0m                            \u001b[0mprecision_score\u001b[0m\u001b[1;33m(\u001b[0m\u001b[0my_test\u001b[0m\u001b[1;33m,\u001b[0m\u001b[0my_pred\u001b[0m\u001b[1;33m,\u001b[0m\u001b[0maverage\u001b[0m\u001b[1;33m=\u001b[0m\u001b[1;34m\"macro\"\u001b[0m\u001b[1;33m)\u001b[0m\u001b[1;33m,\u001b[0m\u001b[1;33m\u001b[0m\u001b[1;33m\u001b[0m\u001b[0m\n\u001b[0;32m      9\u001b[0m                            \u001b[0mrecall_score\u001b[0m\u001b[1;33m(\u001b[0m\u001b[0my_test\u001b[0m\u001b[1;33m,\u001b[0m\u001b[0my_pred\u001b[0m\u001b[1;33m,\u001b[0m\u001b[0maverage\u001b[0m\u001b[1;33m=\u001b[0m\u001b[1;34m\"macro\"\u001b[0m\u001b[1;33m)\u001b[0m\u001b[1;33m\u001b[0m\u001b[1;33m\u001b[0m\u001b[0m\n",
      "\u001b[1;32m~\\anaconda3\\lib\\site-packages\\sklearn\\utils\\validation.py\u001b[0m in \u001b[0;36minner_f\u001b[1;34m(*args, **kwargs)\u001b[0m\n\u001b[0;32m     70\u001b[0m                           FutureWarning)\n\u001b[0;32m     71\u001b[0m         \u001b[0mkwargs\u001b[0m\u001b[1;33m.\u001b[0m\u001b[0mupdate\u001b[0m\u001b[1;33m(\u001b[0m\u001b[1;33m{\u001b[0m\u001b[0mk\u001b[0m\u001b[1;33m:\u001b[0m \u001b[0marg\u001b[0m \u001b[1;32mfor\u001b[0m \u001b[0mk\u001b[0m\u001b[1;33m,\u001b[0m \u001b[0marg\u001b[0m \u001b[1;32min\u001b[0m \u001b[0mzip\u001b[0m\u001b[1;33m(\u001b[0m\u001b[0msig\u001b[0m\u001b[1;33m.\u001b[0m\u001b[0mparameters\u001b[0m\u001b[1;33m,\u001b[0m \u001b[0margs\u001b[0m\u001b[1;33m)\u001b[0m\u001b[1;33m}\u001b[0m\u001b[1;33m)\u001b[0m\u001b[1;33m\u001b[0m\u001b[1;33m\u001b[0m\u001b[0m\n\u001b[1;32m---> 72\u001b[1;33m         \u001b[1;32mreturn\u001b[0m \u001b[0mf\u001b[0m\u001b[1;33m(\u001b[0m\u001b[1;33m**\u001b[0m\u001b[0mkwargs\u001b[0m\u001b[1;33m)\u001b[0m\u001b[1;33m\u001b[0m\u001b[1;33m\u001b[0m\u001b[0m\n\u001b[0m\u001b[0;32m     73\u001b[0m     \u001b[1;32mreturn\u001b[0m \u001b[0minner_f\u001b[0m\u001b[1;33m\u001b[0m\u001b[1;33m\u001b[0m\u001b[0m\n\u001b[0;32m     74\u001b[0m \u001b[1;33m\u001b[0m\u001b[0m\n",
      "\u001b[1;32m~\\anaconda3\\lib\\site-packages\\sklearn\\metrics\\_classification.py\u001b[0m in \u001b[0;36mf1_score\u001b[1;34m(y_true, y_pred, labels, pos_label, average, sample_weight, zero_division)\u001b[0m\n\u001b[0;32m   1042\u001b[0m     \u001b[0mmodified\u001b[0m \u001b[1;32mwith\u001b[0m\u001b[0;31m \u001b[0m\u001b[0;31m`\u001b[0m\u001b[0;31m`\u001b[0m\u001b[0mzero_division\u001b[0m\u001b[0;31m`\u001b[0m\u001b[0;31m`\u001b[0m\u001b[1;33m.\u001b[0m\u001b[1;33m\u001b[0m\u001b[1;33m\u001b[0m\u001b[0m\n\u001b[0;32m   1043\u001b[0m     \"\"\"\n\u001b[1;32m-> 1044\u001b[1;33m     return fbeta_score(y_true, y_pred, beta=1, labels=labels,\n\u001b[0m\u001b[0;32m   1045\u001b[0m                        \u001b[0mpos_label\u001b[0m\u001b[1;33m=\u001b[0m\u001b[0mpos_label\u001b[0m\u001b[1;33m,\u001b[0m \u001b[0maverage\u001b[0m\u001b[1;33m=\u001b[0m\u001b[0maverage\u001b[0m\u001b[1;33m,\u001b[0m\u001b[1;33m\u001b[0m\u001b[1;33m\u001b[0m\u001b[0m\n\u001b[0;32m   1046\u001b[0m                        \u001b[0msample_weight\u001b[0m\u001b[1;33m=\u001b[0m\u001b[0msample_weight\u001b[0m\u001b[1;33m,\u001b[0m\u001b[1;33m\u001b[0m\u001b[1;33m\u001b[0m\u001b[0m\n",
      "\u001b[1;32m~\\anaconda3\\lib\\site-packages\\sklearn\\utils\\validation.py\u001b[0m in \u001b[0;36minner_f\u001b[1;34m(*args, **kwargs)\u001b[0m\n\u001b[0;32m     70\u001b[0m                           FutureWarning)\n\u001b[0;32m     71\u001b[0m         \u001b[0mkwargs\u001b[0m\u001b[1;33m.\u001b[0m\u001b[0mupdate\u001b[0m\u001b[1;33m(\u001b[0m\u001b[1;33m{\u001b[0m\u001b[0mk\u001b[0m\u001b[1;33m:\u001b[0m \u001b[0marg\u001b[0m \u001b[1;32mfor\u001b[0m \u001b[0mk\u001b[0m\u001b[1;33m,\u001b[0m \u001b[0marg\u001b[0m \u001b[1;32min\u001b[0m \u001b[0mzip\u001b[0m\u001b[1;33m(\u001b[0m\u001b[0msig\u001b[0m\u001b[1;33m.\u001b[0m\u001b[0mparameters\u001b[0m\u001b[1;33m,\u001b[0m \u001b[0margs\u001b[0m\u001b[1;33m)\u001b[0m\u001b[1;33m}\u001b[0m\u001b[1;33m)\u001b[0m\u001b[1;33m\u001b[0m\u001b[1;33m\u001b[0m\u001b[0m\n\u001b[1;32m---> 72\u001b[1;33m         \u001b[1;32mreturn\u001b[0m \u001b[0mf\u001b[0m\u001b[1;33m(\u001b[0m\u001b[1;33m**\u001b[0m\u001b[0mkwargs\u001b[0m\u001b[1;33m)\u001b[0m\u001b[1;33m\u001b[0m\u001b[1;33m\u001b[0m\u001b[0m\n\u001b[0m\u001b[0;32m     73\u001b[0m     \u001b[1;32mreturn\u001b[0m \u001b[0minner_f\u001b[0m\u001b[1;33m\u001b[0m\u001b[1;33m\u001b[0m\u001b[0m\n\u001b[0;32m     74\u001b[0m \u001b[1;33m\u001b[0m\u001b[0m\n",
      "\u001b[1;32m~\\anaconda3\\lib\\site-packages\\sklearn\\metrics\\_classification.py\u001b[0m in \u001b[0;36mfbeta_score\u001b[1;34m(y_true, y_pred, beta, labels, pos_label, average, sample_weight, zero_division)\u001b[0m\n\u001b[0;32m   1166\u001b[0m     \"\"\"\n\u001b[0;32m   1167\u001b[0m \u001b[1;33m\u001b[0m\u001b[0m\n\u001b[1;32m-> 1168\u001b[1;33m     _, _, f, _ = precision_recall_fscore_support(y_true, y_pred,\n\u001b[0m\u001b[0;32m   1169\u001b[0m                                                  \u001b[0mbeta\u001b[0m\u001b[1;33m=\u001b[0m\u001b[0mbeta\u001b[0m\u001b[1;33m,\u001b[0m\u001b[1;33m\u001b[0m\u001b[1;33m\u001b[0m\u001b[0m\n\u001b[0;32m   1170\u001b[0m                                                  \u001b[0mlabels\u001b[0m\u001b[1;33m=\u001b[0m\u001b[0mlabels\u001b[0m\u001b[1;33m,\u001b[0m\u001b[1;33m\u001b[0m\u001b[1;33m\u001b[0m\u001b[0m\n",
      "\u001b[1;32m~\\anaconda3\\lib\\site-packages\\sklearn\\utils\\validation.py\u001b[0m in \u001b[0;36minner_f\u001b[1;34m(*args, **kwargs)\u001b[0m\n\u001b[0;32m     70\u001b[0m                           FutureWarning)\n\u001b[0;32m     71\u001b[0m         \u001b[0mkwargs\u001b[0m\u001b[1;33m.\u001b[0m\u001b[0mupdate\u001b[0m\u001b[1;33m(\u001b[0m\u001b[1;33m{\u001b[0m\u001b[0mk\u001b[0m\u001b[1;33m:\u001b[0m \u001b[0marg\u001b[0m \u001b[1;32mfor\u001b[0m \u001b[0mk\u001b[0m\u001b[1;33m,\u001b[0m \u001b[0marg\u001b[0m \u001b[1;32min\u001b[0m \u001b[0mzip\u001b[0m\u001b[1;33m(\u001b[0m\u001b[0msig\u001b[0m\u001b[1;33m.\u001b[0m\u001b[0mparameters\u001b[0m\u001b[1;33m,\u001b[0m \u001b[0margs\u001b[0m\u001b[1;33m)\u001b[0m\u001b[1;33m}\u001b[0m\u001b[1;33m)\u001b[0m\u001b[1;33m\u001b[0m\u001b[1;33m\u001b[0m\u001b[0m\n\u001b[1;32m---> 72\u001b[1;33m         \u001b[1;32mreturn\u001b[0m \u001b[0mf\u001b[0m\u001b[1;33m(\u001b[0m\u001b[1;33m**\u001b[0m\u001b[0mkwargs\u001b[0m\u001b[1;33m)\u001b[0m\u001b[1;33m\u001b[0m\u001b[1;33m\u001b[0m\u001b[0m\n\u001b[0m\u001b[0;32m     73\u001b[0m     \u001b[1;32mreturn\u001b[0m \u001b[0minner_f\u001b[0m\u001b[1;33m\u001b[0m\u001b[1;33m\u001b[0m\u001b[0m\n\u001b[0;32m     74\u001b[0m \u001b[1;33m\u001b[0m\u001b[0m\n",
      "\u001b[1;32m~\\anaconda3\\lib\\site-packages\\sklearn\\metrics\\_classification.py\u001b[0m in \u001b[0;36mprecision_recall_fscore_support\u001b[1;34m(y_true, y_pred, beta, labels, pos_label, average, warn_for, sample_weight, zero_division)\u001b[0m\n\u001b[0;32m   1431\u001b[0m     \u001b[1;32mif\u001b[0m \u001b[0mbeta\u001b[0m \u001b[1;33m<\u001b[0m \u001b[1;36m0\u001b[0m\u001b[1;33m:\u001b[0m\u001b[1;33m\u001b[0m\u001b[1;33m\u001b[0m\u001b[0m\n\u001b[0;32m   1432\u001b[0m         \u001b[1;32mraise\u001b[0m \u001b[0mValueError\u001b[0m\u001b[1;33m(\u001b[0m\u001b[1;34m\"beta should be >=0 in the F-beta score\"\u001b[0m\u001b[1;33m)\u001b[0m\u001b[1;33m\u001b[0m\u001b[1;33m\u001b[0m\u001b[0m\n\u001b[1;32m-> 1433\u001b[1;33m     labels = _check_set_wise_labels(y_true, y_pred, average, labels,\n\u001b[0m\u001b[0;32m   1434\u001b[0m                                     pos_label)\n\u001b[0;32m   1435\u001b[0m \u001b[1;33m\u001b[0m\u001b[0m\n",
      "\u001b[1;32m~\\anaconda3\\lib\\site-packages\\sklearn\\metrics\\_classification.py\u001b[0m in \u001b[0;36m_check_set_wise_labels\u001b[1;34m(y_true, y_pred, average, labels, pos_label)\u001b[0m\n\u001b[0;32m   1248\u001b[0m                          str(average_options))\n\u001b[0;32m   1249\u001b[0m \u001b[1;33m\u001b[0m\u001b[0m\n\u001b[1;32m-> 1250\u001b[1;33m     \u001b[0my_type\u001b[0m\u001b[1;33m,\u001b[0m \u001b[0my_true\u001b[0m\u001b[1;33m,\u001b[0m \u001b[0my_pred\u001b[0m \u001b[1;33m=\u001b[0m \u001b[0m_check_targets\u001b[0m\u001b[1;33m(\u001b[0m\u001b[0my_true\u001b[0m\u001b[1;33m,\u001b[0m \u001b[0my_pred\u001b[0m\u001b[1;33m)\u001b[0m\u001b[1;33m\u001b[0m\u001b[1;33m\u001b[0m\u001b[0m\n\u001b[0m\u001b[0;32m   1251\u001b[0m     \u001b[0mpresent_labels\u001b[0m \u001b[1;33m=\u001b[0m \u001b[0munique_labels\u001b[0m\u001b[1;33m(\u001b[0m\u001b[0my_true\u001b[0m\u001b[1;33m,\u001b[0m \u001b[0my_pred\u001b[0m\u001b[1;33m)\u001b[0m\u001b[1;33m\u001b[0m\u001b[1;33m\u001b[0m\u001b[0m\n\u001b[0;32m   1252\u001b[0m     \u001b[1;32mif\u001b[0m \u001b[0maverage\u001b[0m \u001b[1;33m==\u001b[0m \u001b[1;34m'binary'\u001b[0m\u001b[1;33m:\u001b[0m\u001b[1;33m\u001b[0m\u001b[1;33m\u001b[0m\u001b[0m\n",
      "\u001b[1;32m~\\anaconda3\\lib\\site-packages\\sklearn\\metrics\\_classification.py\u001b[0m in \u001b[0;36m_check_targets\u001b[1;34m(y_true, y_pred)\u001b[0m\n\u001b[0;32m     79\u001b[0m     \u001b[0my_pred\u001b[0m \u001b[1;33m:\u001b[0m \u001b[0marray\u001b[0m \u001b[1;32mor\u001b[0m \u001b[0mindicator\u001b[0m \u001b[0mmatrix\u001b[0m\u001b[1;33m\u001b[0m\u001b[1;33m\u001b[0m\u001b[0m\n\u001b[0;32m     80\u001b[0m     \"\"\"\n\u001b[1;32m---> 81\u001b[1;33m     \u001b[0mcheck_consistent_length\u001b[0m\u001b[1;33m(\u001b[0m\u001b[0my_true\u001b[0m\u001b[1;33m,\u001b[0m \u001b[0my_pred\u001b[0m\u001b[1;33m)\u001b[0m\u001b[1;33m\u001b[0m\u001b[1;33m\u001b[0m\u001b[0m\n\u001b[0m\u001b[0;32m     82\u001b[0m     \u001b[0mtype_true\u001b[0m \u001b[1;33m=\u001b[0m \u001b[0mtype_of_target\u001b[0m\u001b[1;33m(\u001b[0m\u001b[0my_true\u001b[0m\u001b[1;33m)\u001b[0m\u001b[1;33m\u001b[0m\u001b[1;33m\u001b[0m\u001b[0m\n\u001b[0;32m     83\u001b[0m     \u001b[0mtype_pred\u001b[0m \u001b[1;33m=\u001b[0m \u001b[0mtype_of_target\u001b[0m\u001b[1;33m(\u001b[0m\u001b[0my_pred\u001b[0m\u001b[1;33m)\u001b[0m\u001b[1;33m\u001b[0m\u001b[1;33m\u001b[0m\u001b[0m\n",
      "\u001b[1;32m~\\anaconda3\\lib\\site-packages\\sklearn\\utils\\validation.py\u001b[0m in \u001b[0;36mcheck_consistent_length\u001b[1;34m(*arrays)\u001b[0m\n\u001b[0;32m    253\u001b[0m     \u001b[0muniques\u001b[0m \u001b[1;33m=\u001b[0m \u001b[0mnp\u001b[0m\u001b[1;33m.\u001b[0m\u001b[0munique\u001b[0m\u001b[1;33m(\u001b[0m\u001b[0mlengths\u001b[0m\u001b[1;33m)\u001b[0m\u001b[1;33m\u001b[0m\u001b[1;33m\u001b[0m\u001b[0m\n\u001b[0;32m    254\u001b[0m     \u001b[1;32mif\u001b[0m \u001b[0mlen\u001b[0m\u001b[1;33m(\u001b[0m\u001b[0muniques\u001b[0m\u001b[1;33m)\u001b[0m \u001b[1;33m>\u001b[0m \u001b[1;36m1\u001b[0m\u001b[1;33m:\u001b[0m\u001b[1;33m\u001b[0m\u001b[1;33m\u001b[0m\u001b[0m\n\u001b[1;32m--> 255\u001b[1;33m         raise ValueError(\"Found input variables with inconsistent numbers of\"\n\u001b[0m\u001b[0;32m    256\u001b[0m                          \" samples: %r\" % [int(l) for l in lengths])\n\u001b[0;32m    257\u001b[0m \u001b[1;33m\u001b[0m\u001b[0m\n",
      "\u001b[1;31mValueError\u001b[0m: Found input variables with inconsistent numbers of samples: [533388, 177796]"
     ]
    }
   ],
   "source": [
    "model_scoring(log_pred, logr_m)\n",
    "model_scoring(ridge_pred, ridge_m)\n",
    "model_scoring(linSVC_pred, lnSVC_m)\n",
    "model_scoring(naivemulti_pred, naivemulti_m)\n",
    "model_scoring(naivebern_pred, naivebern_m)\n",
    "model_scoring(xgb_pred, xgb_m)\n",
    "model_scoring(rf_pred, rf_m)"
   ]
  },
  {
   "cell_type": "code",
   "execution_count": 42,
   "metadata": {},
   "outputs": [
    {
     "data": {
      "text/html": [
       "<div>\n",
       "<style scoped>\n",
       "    .dataframe tbody tr th:only-of-type {\n",
       "        vertical-align: middle;\n",
       "    }\n",
       "\n",
       "    .dataframe tbody tr th {\n",
       "        vertical-align: top;\n",
       "    }\n",
       "\n",
       "    .dataframe thead th {\n",
       "        text-align: right;\n",
       "    }\n",
       "</style>\n",
       "<table border=\"1\" class=\"dataframe\">\n",
       "  <thead>\n",
       "    <tr style=\"text-align: right;\">\n",
       "      <th></th>\n",
       "      <th>model_f1_train</th>\n",
       "      <th>params_used</th>\n",
       "      <th>f1</th>\n",
       "      <th>precision</th>\n",
       "      <th>recall</th>\n",
       "    </tr>\n",
       "  </thead>\n",
       "  <tbody>\n",
       "    <tr>\n",
       "      <th>LogisticRegression(C=5, max_iter=10000, solver='sag')</th>\n",
       "      <td>0.786423</td>\n",
       "      <td>{'C': 5, 'max_iter': 10000, 'penalty': 'l2'}</td>\n",
       "      <td>0.793341</td>\n",
       "      <td>0.802866</td>\n",
       "      <td>0.784613</td>\n",
       "    </tr>\n",
       "    <tr>\n",
       "      <th>RidgeClassifier(alpha=3)</th>\n",
       "      <td>0.774953</td>\n",
       "      <td>{'alpha': 3}</td>\n",
       "      <td>0.701908</td>\n",
       "      <td>0.746598</td>\n",
       "      <td>0.673970</td>\n",
       "    </tr>\n",
       "    <tr>\n",
       "      <th>LinearSVC(C=1)</th>\n",
       "      <td>0.783292</td>\n",
       "      <td>{'C': 1}</td>\n",
       "      <td>0.780187</td>\n",
       "      <td>0.797435</td>\n",
       "      <td>0.765312</td>\n",
       "    </tr>\n",
       "    <tr>\n",
       "      <th>MultinomialNB(alpha=3)</th>\n",
       "      <td>0.745198</td>\n",
       "      <td>{'alpha': 3}</td>\n",
       "      <td>0.506943</td>\n",
       "      <td>0.830172</td>\n",
       "      <td>0.515313</td>\n",
       "    </tr>\n",
       "    <tr>\n",
       "      <th>BernoulliNB(alpha=3)</th>\n",
       "      <td>0.746686</td>\n",
       "      <td>{'alpha': 3}</td>\n",
       "      <td>0.560797</td>\n",
       "      <td>0.608912</td>\n",
       "      <td>0.548963</td>\n",
       "    </tr>\n",
       "  </tbody>\n",
       "</table>\n",
       "</div>"
      ],
      "text/plain": [
       "                                                    model_f1_train  \\\n",
       "LogisticRegression(C=5, max_iter=10000, solver=...        0.786423   \n",
       "RidgeClassifier(alpha=3)                                  0.774953   \n",
       "LinearSVC(C=1)                                            0.783292   \n",
       "MultinomialNB(alpha=3)                                    0.745198   \n",
       "BernoulliNB(alpha=3)                                      0.746686   \n",
       "\n",
       "                                                                                     params_used  \\\n",
       "LogisticRegression(C=5, max_iter=10000, solver=...  {'C': 5, 'max_iter': 10000, 'penalty': 'l2'}   \n",
       "RidgeClassifier(alpha=3)                                                            {'alpha': 3}   \n",
       "LinearSVC(C=1)                                                                          {'C': 1}   \n",
       "MultinomialNB(alpha=3)                                                              {'alpha': 3}   \n",
       "BernoulliNB(alpha=3)                                                                {'alpha': 3}   \n",
       "\n",
       "                                                          f1  precision  \\\n",
       "LogisticRegression(C=5, max_iter=10000, solver=...  0.793341   0.802866   \n",
       "RidgeClassifier(alpha=3)                            0.701908   0.746598   \n",
       "LinearSVC(C=1)                                      0.780187   0.797435   \n",
       "MultinomialNB(alpha=3)                              0.506943   0.830172   \n",
       "BernoulliNB(alpha=3)                                0.560797   0.608912   \n",
       "\n",
       "                                                      recall  \n",
       "LogisticRegression(C=5, max_iter=10000, solver=...  0.784613  \n",
       "RidgeClassifier(alpha=3)                            0.673970  \n",
       "LinearSVC(C=1)                                      0.765312  \n",
       "MultinomialNB(alpha=3)                              0.515313  \n",
       "BernoulliNB(alpha=3)                                0.548963  "
      ]
     },
     "execution_count": 42,
     "metadata": {},
     "output_type": "execute_result"
    }
   ],
   "source": [
    "model_score"
   ]
  },
  {
   "cell_type": "markdown",
   "metadata": {},
   "source": [
    "# Out-the box models"
   ]
  },
  {
   "cell_type": "code",
   "execution_count": 43,
   "metadata": {},
   "outputs": [],
   "source": [
    "def out_box_textblob(x):\n",
    "    x = TextBlob(x).sentiment[0]\n",
    "    if x >0:\n",
    "        x = 1\n",
    "    elif x<0:\n",
    "        x = -1\n",
    "    else:\n",
    "        x= 0\n",
    "    return x"
   ]
  },
  {
   "cell_type": "code",
   "execution_count": 44,
   "metadata": {},
   "outputs": [],
   "source": [
    "def out_box_vader(x):\n",
    "    x = vader.polarity_scores(x)[\"compound\"]\n",
    "    if x >0:\n",
    "        x = 1\n",
    "    elif x<0:\n",
    "        x = -1\n",
    "    else:\n",
    "        x= 0\n",
    "    return x"
   ]
  },
  {
   "cell_type": "code",
   "execution_count": 45,
   "metadata": {},
   "outputs": [],
   "source": [
    "def out_box_score(y_true, prediction):\n",
    "    global model_score\n",
    "    df = pd.DataFrame(data = [[0,\n",
    "                               0,\n",
    "                               f1_score(y_true,prediction,average=\"macro\"),\n",
    "                               precision_score(y_true,prediction,average=\"macro\"),\n",
    "                               recall_score(y_true,prediction,average=\"macro\")\n",
    "                              ]] ,\n",
    "                      columns=model_score.columns, \n",
    "                      index=[str(prediction.name)])\n",
    "    model_score = model_score.append ( df )"
   ]
  },
  {
   "cell_type": "code",
   "execution_count": 46,
   "metadata": {},
   "outputs": [],
   "source": [
    "textblob_pred = tweets_df[\"cleaned_tweet\"].apply(out_box_textblob)\n",
    "vader_pred = tweets_df[\"cleaned_tweet\"].apply(out_box_vader)\n",
    "\n",
    "out_box_score(tweets_df[\"polarity\"],vader_pred)\n",
    "out_box_score(tweets_df[\"polarity\"],textblob_pred)"
   ]
  },
  {
   "cell_type": "code",
   "execution_count": null,
   "metadata": {},
   "outputs": [],
   "source": [
    "model_score"
   ]
  },
  {
   "cell_type": "markdown",
   "metadata": {},
   "source": [
    "## Save all models & vocab"
   ]
  },
  {
   "cell_type": "code",
   "execution_count": 50,
   "metadata": {},
   "outputs": [],
   "source": [
    "model_dict = {\n",
    "    logr_m : \"logr_m\",\n",
    "    ridge_m:\"ridge_m\",lnSVC_m:\"lnSVC_m\", naivemulti_m:\"naivemulti_m\", naivebern_m:\"naivebern_m\",xgb_m:\"xgb_m\"\n",
    "              ,rf_m: \"rf_m\"\n",
    "             }\n",
    "for m in model_dict.items():\n",
    "    file = open(f'{m[1]}.pickle','wb')\n",
    "    pickle.dump(m[0], file)\n",
    "    file.close()"
   ]
  },
  {
   "cell_type": "code",
   "execution_count": 51,
   "metadata": {},
   "outputs": [],
   "source": [
    "## save vocabulary \n",
    "with open(\"vocabulary\",\"wb\") as f:\n",
    "    pickle.dump(tfidf.vocabulary_,f)\n",
    "    f.close()"
   ]
  },
  {
   "cell_type": "markdown",
   "metadata": {},
   "source": [
    "## Voting Classifier \n",
    "Option ensemble "
   ]
  },
  {
   "cell_type": "code",
   "execution_count": null,
   "metadata": {},
   "outputs": [],
   "source": [
    "\"\"\"from sklearn.ensemble import VotingClassifier\n",
    "vc = VotingClassifier([(\"logr_m\",LogisticRegression()), \n",
    "                       (\"ridge_m\",RidgeClassifier()), \n",
    "                       (\"lnSVC_m\",LinearSVC()), \n",
    "                       (\"ridge_m\",ridge_m),\n",
    "                       (\"naivemulti_m\",MultinomialNB()),\n",
    "                       (\"rf_m\",RandomForestClassifier(),\n",
    "                       (\"xgb_m\",XGBClassifier()\n",
    "                       ))],\n",
    "                      voting = \"hard\")\n",
    "vc.fit(X_train, y_train)\"\"\""
   ]
  },
  {
   "cell_type": "markdown",
   "metadata": {},
   "source": [
    "# Pipeline"
   ]
  },
  {
   "cell_type": "code",
   "execution_count": 52,
   "metadata": {},
   "outputs": [],
   "source": [
    "from sklearn.pipeline import Pipeline\n",
    "\n",
    "X = tweets_df[\"cleaned_tweet\"]\n",
    "y = tweets_df[\"polarity\"]\n",
    "\n",
    "X_train, X_test, y_train, y_test = train_test_split(X, y, test_size=0.3, random_state=42)"
   ]
  },
  {
   "cell_type": "code",
   "execution_count": 53,
   "metadata": {},
   "outputs": [],
   "source": [
    "pipe = Pipeline(steps = [\n",
    "    (\"tfidf\", TfidfVectorizer()),\n",
    "    (\"xgb\" , GridSearchCV(xgb_i, param_grid= xgb_params, cv= kfold))\n",
    "]\n",
    "               )"
   ]
  },
  {
   "cell_type": "code",
   "execution_count": 54,
   "metadata": {},
   "outputs": [
    {
     "name": "stderr",
     "output_type": "stream",
     "text": [
      "C:\\Users\\andre\\anaconda3\\lib\\site-packages\\xgboost\\sklearn.py:888: UserWarning: The use of label encoder in XGBClassifier is deprecated and will be removed in a future release. To remove this warning, do the following: 1) Pass option use_label_encoder=False when constructing XGBClassifier object; and 2) Encode your labels (y) as integers starting with 0, i.e. 0, 1, 2, ..., [num_class - 1].\n",
      "  warnings.warn(label_encoder_deprecation_msg, UserWarning)\n"
     ]
    },
    {
     "name": "stdout",
     "output_type": "stream",
     "text": [
      "[07:53:31] WARNING: ..\\src\\learner.cc:1061: Starting in XGBoost 1.3.0, the default evaluation metric used with the objective 'multi:softprob' was changed from 'merror' to 'mlogloss'. Explicitly set eval_metric if you'd like to restore the old behavior.\n",
      "[09:11:47] WARNING: ..\\src\\learner.cc:1061: Starting in XGBoost 1.3.0, the default evaluation metric used with the objective 'multi:softprob' was changed from 'merror' to 'mlogloss'. Explicitly set eval_metric if you'd like to restore the old behavior.\n",
      "[10:34:41] WARNING: ..\\src\\learner.cc:1061: Starting in XGBoost 1.3.0, the default evaluation metric used with the objective 'multi:softprob' was changed from 'merror' to 'mlogloss'. Explicitly set eval_metric if you'd like to restore the old behavior.\n",
      "[12:12:28] WARNING: ..\\src\\learner.cc:1061: Starting in XGBoost 1.3.0, the default evaluation metric used with the objective 'multi:softprob' was changed from 'merror' to 'mlogloss'. Explicitly set eval_metric if you'd like to restore the old behavior.\n",
      "[13:41:34] WARNING: ..\\src\\learner.cc:1061: Starting in XGBoost 1.3.0, the default evaluation metric used with the objective 'multi:softprob' was changed from 'merror' to 'mlogloss'. Explicitly set eval_metric if you'd like to restore the old behavior.\n",
      "[15:09:02] WARNING: ..\\src\\learner.cc:1061: Starting in XGBoost 1.3.0, the default evaluation metric used with the objective 'multi:softprob' was changed from 'merror' to 'mlogloss'. Explicitly set eval_metric if you'd like to restore the old behavior.\n"
     ]
    },
    {
     "data": {
      "text/plain": [
       "Pipeline(steps=[('tfidf', TfidfVectorizer()),\n",
       "                ('xgb',\n",
       "                 GridSearchCV(cv=StratifiedKFold(n_splits=5, random_state=42, shuffle=True),\n",
       "                              estimator=XGBClassifier(base_score=None,\n",
       "                                                      booster=None,\n",
       "                                                      colsample_bylevel=None,\n",
       "                                                      colsample_bynode=None,\n",
       "                                                      colsample_bytree=None,\n",
       "                                                      gamma=None, gpu_id=None,\n",
       "                                                      importance_type='gain',\n",
       "                                                      interaction_constraints=None,\n",
       "                                                      learning_rate=None,\n",
       "                                                      max_delta_step=None,\n",
       "                                                      max_depth=None,\n",
       "                                                      min_child_weight=None,\n",
       "                                                      missing=nan,\n",
       "                                                      monotone_constraints=None,\n",
       "                                                      n_estimators=100,\n",
       "                                                      n_jobs=None,\n",
       "                                                      num_parallel_tree=None,\n",
       "                                                      random_state=None,\n",
       "                                                      reg_alpha=None,\n",
       "                                                      reg_lambda=None,\n",
       "                                                      scale_pos_weight=None,\n",
       "                                                      subsample=None,\n",
       "                                                      tree_method=None,\n",
       "                                                      validate_parameters=None,\n",
       "                                                      verbosity=None),\n",
       "                              param_grid={'eta': [0.5], 'max_depth': [9],\n",
       "                                          'n_estimators': [200]}))])"
      ]
     },
     "execution_count": 54,
     "metadata": {},
     "output_type": "execute_result"
    }
   ],
   "source": [
    "pipe.fit(X,y)"
   ]
  },
  {
   "cell_type": "code",
   "execution_count": 55,
   "metadata": {},
   "outputs": [
    {
     "name": "stdout",
     "output_type": "stream",
     "text": [
      "              precision    recall  f1-score   support\n",
      "\n",
      "        -1.0       0.83      0.78      0.81    252947\n",
      "         0.0       0.88      0.84      0.86     18298\n",
      "         1.0       0.80      0.85      0.82    262143\n",
      "\n",
      "    accuracy                           0.82    533388\n",
      "   macro avg       0.84      0.82      0.83    533388\n",
      "weighted avg       0.82      0.82      0.82    533388\n",
      "\n"
     ]
    }
   ],
   "source": [
    "print(classification_report(y_test, pipe.predict(X_test)))"
   ]
  },
  {
   "cell_type": "markdown",
   "metadata": {},
   "source": [
    "## Save pipeline"
   ]
  },
  {
   "cell_type": "code",
   "execution_count": 56,
   "metadata": {},
   "outputs": [],
   "source": [
    "file = open('pipemodel_model.pickle','wb')\n",
    "pickle.dump(pipe, file)\n",
    "file.close()"
   ]
  },
  {
   "cell_type": "code",
   "execution_count": null,
   "metadata": {},
   "outputs": [],
   "source": []
  }
 ],
 "metadata": {
  "kernelspec": {
   "display_name": "Python 3",
   "language": "python",
   "name": "python3"
  },
  "language_info": {
   "codemirror_mode": {
    "name": "ipython",
    "version": 3
   },
   "file_extension": ".py",
   "mimetype": "text/x-python",
   "name": "python",
   "nbconvert_exporter": "python",
   "pygments_lexer": "ipython3",
   "version": "3.8.5"
  }
 },
 "nbformat": 4,
 "nbformat_minor": 4
}
